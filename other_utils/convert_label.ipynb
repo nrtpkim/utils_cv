{
 "cells": [
  {
   "cell_type": "markdown",
   "metadata": {},
   "source": [
    "# Labelme to Yolo"
   ]
  },
  {
   "cell_type": "code",
   "execution_count": 6,
   "metadata": {},
   "outputs": [],
   "source": [
    "# import json\n",
    "  \n",
    "# # Opening JSON file\n",
    "# f = open('BKF-BLUE-1_phone_ (150).json')\n",
    "  \n",
    "# # returns JSON object as \n",
    "# # a dictionary\n",
    "# data = json.load(f)\n",
    "  \n",
    "# # Iterating through the json\n",
    "# # list\n",
    "# for i in data['shapes']:\n",
    "#     print(i)\n",
    "  \n",
    "# # Closing file\n",
    "# f.close()"
   ]
  },
  {
   "cell_type": "code",
   "execution_count": 8,
   "metadata": {},
   "outputs": [
    {
     "name": "stderr",
     "output_type": "stream",
     "text": [
      "  0%|          | 0/102 [00:00<?, ?it/s]\n"
     ]
    },
    {
     "ename": "AttributeError",
     "evalue": "'NoneType' object has no attribute 'shape'",
     "output_type": "error",
     "traceback": [
      "\u001b[1;31m---------------------------------------------------------------------------\u001b[0m",
      "\u001b[1;31mAttributeError\u001b[0m                            Traceback (most recent call last)",
      "Cell \u001b[1;32mIn[8], line 67\u001b[0m\n\u001b[0;32m     64\u001b[0m name \u001b[38;5;241m=\u001b[39m json_file\u001b[38;5;241m.\u001b[39msplit(\u001b[38;5;124m'\u001b[39m\u001b[38;5;124m.json\u001b[39m\u001b[38;5;124m'\u001b[39m)[\u001b[38;5;241m0\u001b[39m]\n\u001b[0;32m     65\u001b[0m os\u001b[38;5;241m.\u001b[39mmakedirs(output_dir, exist_ok\u001b[38;5;241m=\u001b[39m\u001b[38;5;28;01mTrue\u001b[39;00m)\n\u001b[1;32m---> 67\u001b[0m yolo_lines \u001b[38;5;241m=\u001b[39m \u001b[43mlabelme_to_yolo\u001b[49m\u001b[43m(\u001b[49m\u001b[43msource_dir\u001b[49m\u001b[43m,\u001b[49m\u001b[43m \u001b[49m\u001b[43mclass_map\u001b[49m\u001b[43m,\u001b[49m\u001b[43m \u001b[49m\u001b[43mimage_folder\u001b[49m\u001b[38;5;241;43m=\u001b[39;49m\u001b[43m \u001b[49m\u001b[43mfocus_folder\u001b[49m\u001b[43m,\u001b[49m\u001b[43m \u001b[49m\u001b[43mfile_name\u001b[49m\u001b[38;5;241;43m=\u001b[39;49m\u001b[43mname\u001b[49m\u001b[43m)\u001b[49m\n\u001b[0;32m     68\u001b[0m image_name \u001b[38;5;241m=\u001b[39m os\u001b[38;5;241m.\u001b[39mpath\u001b[38;5;241m.\u001b[39msplitext(os\u001b[38;5;241m.\u001b[39mpath\u001b[38;5;241m.\u001b[39mbasename(json_file))[\u001b[38;5;241m0\u001b[39m]\n\u001b[0;32m     69\u001b[0m output_file \u001b[38;5;241m=\u001b[39m os\u001b[38;5;241m.\u001b[39mpath\u001b[38;5;241m.\u001b[39mjoin(output_dir, \u001b[38;5;124mf\u001b[39m\u001b[38;5;124m\"\u001b[39m\u001b[38;5;132;01m{\u001b[39;00mimage_name\u001b[38;5;132;01m}\u001b[39;00m\u001b[38;5;124m.txt\u001b[39m\u001b[38;5;124m\"\u001b[39m)\n",
      "Cell \u001b[1;32mIn[8], line 14\u001b[0m, in \u001b[0;36mlabelme_to_yolo\u001b[1;34m(json_path, class_map, image_folder, file_name)\u001b[0m\n\u001b[0;32m     10\u001b[0m \u001b[38;5;66;03m# image_width = data['imageWidth']\u001b[39;00m\n\u001b[0;32m     11\u001b[0m \u001b[38;5;66;03m# image_height = data['imageHeight']\u001b[39;00m\n\u001b[0;32m     13\u001b[0m image \u001b[38;5;241m=\u001b[39m cv2\u001b[38;5;241m.\u001b[39mimread(image_folder \u001b[38;5;241m+\u001b[39m file_name\u001b[38;5;241m+\u001b[39m \u001b[38;5;124m'\u001b[39m\u001b[38;5;124m.jpg\u001b[39m\u001b[38;5;124m'\u001b[39m)\n\u001b[1;32m---> 14\u001b[0m image_height, image_width, channels \u001b[38;5;241m=\u001b[39m \u001b[43mimage\u001b[49m\u001b[38;5;241;43m.\u001b[39;49m\u001b[43mshape\u001b[49m\n\u001b[0;32m     16\u001b[0m yolo_lines \u001b[38;5;241m=\u001b[39m []\n\u001b[0;32m     17\u001b[0m \u001b[38;5;28;01mfor\u001b[39;00m shape \u001b[38;5;129;01min\u001b[39;00m data[\u001b[38;5;124m'\u001b[39m\u001b[38;5;124mshapes\u001b[39m\u001b[38;5;124m'\u001b[39m]:\n",
      "\u001b[1;31mAttributeError\u001b[0m: 'NoneType' object has no attribute 'shape'"
     ]
    }
   ],
   "source": [
    "import json\n",
    "import os\n",
    "import cv2\n",
    "from tqdm import tqdm\n",
    "\n",
    "def labelme_to_yolo(json_path, class_map, image_folder, file_name):\n",
    "    with open(json_path, 'r') as f:\n",
    "        data = json.load(f)\n",
    "\n",
    "    # image_width = data['imageWidth']\n",
    "    # image_height = data['imageHeight']\n",
    "\n",
    "    image = cv2.imread(image_folder + file_name+ '.jpg')\n",
    "    image_height, image_width, channels = image.shape\n",
    "\n",
    "    yolo_lines = []\n",
    "    for shape in data['shapes']:\n",
    "        \n",
    "        label = shape['label']\n",
    "        class_index = class_map.get(label, -1)\n",
    "        if class_index == -1:\n",
    "            print(\"Class map out of dict, Please edit class map\")\n",
    "            continue\n",
    "            \n",
    "        points = shape['points']\n",
    "        x_min = min(points, key=lambda x: x[0])[0]\n",
    "        x_max = max(points, key=lambda x: x[0])[0]\n",
    "        y_min = min(points, key=lambda x: x[1])[1]\n",
    "        y_max = max(points, key=lambda x: x[1])[1]\n",
    "\n",
    "\n",
    "        x_center = (x_min + x_max) / (2.0 * image_width)\n",
    "        y_center = (y_min + y_max) / (2.0 * image_height)\n",
    "        width = (x_max - x_min) / image_width\n",
    "        height = (y_max - y_min) / image_height\n",
    "\n",
    "        yolo_lines.append(f\"{class_index} {x_center:.6f} {y_center:.6f} {width:.6f} {height:.6f}\")\n",
    "\n",
    "    return yolo_lines\n",
    "\n",
    "# Example usage:\n",
    "if __name__ == '__main__':\n",
    "    focus_site = \"073\"\n",
    "    # focus_folder = './batch1-2/person-phone/crop_phone'\n",
    "    focus_folder = f'../assets/crop-img/{focus_site}/images/'\n",
    "    # focus_folder = './person-phone/post-prd-12-2023/post-prd-batch-12-2023/images/'\n",
    "    # focus_folder = './img/'\n",
    "    file_list = os.listdir(focus_folder)\n",
    "    json_files = [filename for filename in file_list if filename.endswith('.json')]\n",
    "\n",
    "\n",
    "    for json_file in tqdm(json_files):\n",
    "        # json_file = 'BKF-BLUE-1_phone_ (150).json'\n",
    "        source_dir = os.path.join(focus_folder, json_file)\n",
    "        # output_dir = './yolo_label'\n",
    "        output_dir = f\"../assets/crop-img/{focus_site}/labels_coco/\"\n",
    "        class_map = {\n",
    "            # 'car' : 0\n",
    "            'person': 0,\n",
    "            'phone': 67,\n",
    "            # Add more class mappings as needed\n",
    "        }\n",
    "\n",
    "        name = json_file.split('.json')[0]\n",
    "        os.makedirs(output_dir, exist_ok=True)\n",
    "\n",
    "        yolo_lines = labelme_to_yolo(source_dir, class_map, image_folder= focus_folder, file_name=name)\n",
    "        image_name = os.path.splitext(os.path.basename(json_file))[0]\n",
    "        output_file = os.path.join(output_dir, f\"{image_name}.txt\")\n",
    "\n",
    "        with open(output_file, 'w') as f:\n",
    "            f.write('\\n'.join(yolo_lines))"
   ]
  },
  {
   "cell_type": "code",
   "execution_count": 1,
   "metadata": {},
   "outputs": [],
   "source": [
    "# file_list = os.listdir('batch1-2')\n",
    "\n",
    "# json_files = [filename for filename in file_list if filename.endswith('.json')]\n",
    "\n",
    "# print(json_files)"
   ]
  },
  {
   "cell_type": "code",
   "execution_count": null,
   "metadata": {},
   "outputs": [],
   "source": []
  },
  {
   "cell_type": "code",
   "execution_count": null,
   "metadata": {},
   "outputs": [],
   "source": []
  },
  {
   "cell_type": "code",
   "execution_count": null,
   "metadata": {},
   "outputs": [],
   "source": []
  },
  {
   "cell_type": "code",
   "execution_count": null,
   "metadata": {},
   "outputs": [],
   "source": []
  },
  {
   "cell_type": "code",
   "execution_count": null,
   "metadata": {},
   "outputs": [],
   "source": []
  },
  {
   "cell_type": "code",
   "execution_count": null,
   "metadata": {},
   "outputs": [],
   "source": []
  },
  {
   "cell_type": "code",
   "execution_count": 4,
   "metadata": {},
   "outputs": [
    {
     "name": "stdout",
     "output_type": "stream",
     "text": [
      "{'label': 'person_with_phone', 'points': [[1608.108108108108, 1105.4054054054054], [2132.4324324324325, 1505.4054054054054]], 'group_id': None, 'description': '', 'shape_type': 'rectangle', 'flags': {}}\n",
      "{'label': 'person', 'points': [[2278.3783783783783, 1086.4864864864865], [2513.5135135135133, 1232.4324324324325]], 'group_id': None, 'description': '', 'shape_type': 'rectangle', 'flags': {}}\n"
     ]
    }
   ],
   "source": [
    "import json\n",
    "  \n",
    "# Opening JSON file\n",
    "f = open('BKF-BLUE-1_phone_ (150).json')\n",
    "  \n",
    "# returns JSON object as \n",
    "# a dictionary\n",
    "data = json.load(f)\n",
    "  \n",
    "# Iterating through the json\n",
    "# list\n",
    "for i in data['shapes']:\n",
    "    print(i)\n",
    "  \n",
    "# Closing file\n",
    "f.close()"
   ]
  },
  {
   "cell_type": "code",
   "execution_count": 8,
   "metadata": {},
   "outputs": [],
   "source": [
    "import json\n",
    "import os\n",
    "def labelme_to_yolo(labelme_annotation, image_width, image_height, class_map=None):\n",
    "    label = labelme_annotation['label']\n",
    "    points = labelme_annotation['points']\n",
    "\n",
    "    x_min = min(points, key=lambda x: x[0])[0]\n",
    "    x_max = max(points, key=lambda x: x[0])[0]\n",
    "    y_min = min(points, key=lambda x: x[1])[1]\n",
    "    y_max = max(points, key=lambda x: x[1])[1]\n",
    "\n",
    "    x_center = (x_min + x_max) / (2.0 * image_width)\n",
    "    y_center = (y_min + y_max) / (2.0 * image_height)\n",
    "    width = (x_max - x_min) / image_width\n",
    "    height = (y_max - y_min) / image_height\n",
    "\n",
    "    yolo_format = f\"{class_map[label] if class_map else label} {x_center:.6f} {y_center:.6f} {width:.6f} {height:.6f}\"\n",
    "    return yolo_format"
   ]
  },
  {
   "cell_type": "code",
   "execution_count": 9,
   "metadata": {},
   "outputs": [
    {
     "name": "stdout",
     "output_type": "stream",
     "text": [
      "1 0.719335 0.502079 0.201663 0.153846\n"
     ]
    }
   ],
   "source": [
    "# Sample labelme annotation data\n",
    "labelme_annotation = {\n",
    "    'label': 'person_with_phone',\n",
    "    'points': [[1608.108108108108, 1105.4054054054054], [2132.4324324324325, 1505.4054054054054]],\n",
    "}\n",
    "\n",
    "# Image width and height (you need to set these values according to your image size)\n",
    "image_width = 2600\n",
    "image_height = 2600\n",
    "\n",
    "# Class index mapping (optional)\n",
    "class_map = {\n",
    "    'person': 0,\n",
    "    'person_with_phone': 1,\n",
    "    # Add more class mappings as needed\n",
    "}\n",
    "\n",
    "yolo_annotation = labelme_to_yolo(labelme_annotation, image_width, image_height, class_map)\n",
    "print(yolo_annotation)"
   ]
  },
  {
   "cell_type": "code",
   "execution_count": null,
   "metadata": {},
   "outputs": [],
   "source": []
  },
  {
   "cell_type": "markdown",
   "metadata": {},
   "source": [
    "# Convert yolo to labelme"
   ]
  },
  {
   "cell_type": "code",
   "execution_count": 1,
   "metadata": {},
   "outputs": [
    {
     "data": {
      "text/plain": [
       "['BKF-Inspection_phone_2023-12-06_09-37-07.436000.txt',\n",
       " 'BKF-Inspection_phone_2023-12-28_08-57-11.100000.txt',\n",
       " 'BKF-Inspection_phone_2023-12-28_08-19-22.174000.txt',\n",
       " 'BKF-Inspection_phone_2023-12-28_08-02-17.500000.txt',\n",
       " 'BKF-Inspection_phone_2023-12-28_07-58-23.063000.txt']"
      ]
     },
     "execution_count": 1,
     "metadata": {},
     "output_type": "execute_result"
    }
   ],
   "source": [
    "import os\n",
    "import json\n",
    "import cv2\n",
    "from tqdm import tqdm\n",
    "\n",
    "label_files = os.listdir('./person-phone/post-prd-12-2023/post-prd-batch-12-2023/phone/labels/')\n",
    "label_files[:5]"
   ]
  },
  {
   "cell_type": "code",
   "execution_count": 2,
   "metadata": {},
   "outputs": [
    {
     "name": "stderr",
     "output_type": "stream",
     "text": [
      "  0%|          | 0/1342 [00:00<?, ?it/s]"
     ]
    },
    {
     "name": "stderr",
     "output_type": "stream",
     "text": [
      "100%|██████████| 1342/1342 [00:22<00:00, 58.55it/s]\n"
     ]
    }
   ],
   "source": [
    "class_map = {\n",
    "            0.0: 'person',\n",
    "            1.0: 'phone',\n",
    "            # Add more class mappings as needed\n",
    "        }\n",
    "\n",
    "for file_txt_name in tqdm(label_files):\n",
    "    file_name = file_txt_name.split('.txt')[0]\n",
    "    image_folder = './person-phone/post-prd-12-2023/post-prd-batch-12-2023/phone/images/'\n",
    "    txt_folder = './person-phone/post-prd-12-2023/post-prd-batch-12-2023/phone/labels/'\n",
    "\n",
    "    image = cv2.imread(image_folder + file_name+ '.jpg')\n",
    "    image_height, image_width, channels = image.shape\n",
    "\n",
    "    \n",
    "    yolo_labels = open(txt_folder + file_name + '.txt', \"r\").readlines()\n",
    "\n",
    "    labelme_annotations = []\n",
    "    # For each YOLO label\n",
    "    for yolo_label in yolo_labels:\n",
    "        values = yolo_label.split()\n",
    "        class_id, x_center, y_center, width, height = map(float, values)\n",
    "        # Calculate LabelMe coordinates\n",
    "        x_top_left = int((x_center - width / 2) * image_width)\n",
    "        y_top_left = int((y_center - height / 2) * image_height)\n",
    "        x_bottom_right = int((x_center + width / 2) * image_width)\n",
    "        y_bottom_right = int((y_center + height / 2) * image_height)\n",
    "        \n",
    "        labelme_annotation = {\n",
    "            \"label\": class_map[class_id],  # Replace with actual class name\n",
    "            \"points\": [[x_top_left, y_top_left], [x_bottom_right, y_bottom_right]],\n",
    "            \"description\": \"\",\n",
    "            \"shape_type\": \"rectangle\"\n",
    "        }\n",
    "        \n",
    "        # Create or append to the LabelMe JSON\n",
    "        # You'll need to manage annotations per image in your actual code\n",
    "        labelme_annotations.append(labelme_annotation)\n",
    "\n",
    "    json_file_full = {\n",
    "        \"version\": \"5.3.0a0\",\n",
    "        \"flags\": {},\n",
    "        \"shapes\" : labelme_annotations,\n",
    "        \"imagePath\": file_name + '.jpg',\n",
    "        \"imageData\" : None\n",
    "    }\n",
    "\n",
    "\n",
    "    with open(\"./img/\" + file_name + \".json\", \"w\") as json_file:\n",
    "        json.dump(json_file_full, json_file)\n"
   ]
  },
  {
   "cell_type": "code",
   "execution_count": null,
   "metadata": {},
   "outputs": [],
   "source": []
  },
  {
   "cell_type": "code",
   "execution_count": null,
   "metadata": {},
   "outputs": [],
   "source": []
  },
  {
   "cell_type": "code",
   "execution_count": null,
   "metadata": {},
   "outputs": [],
   "source": []
  },
  {
   "cell_type": "code",
   "execution_count": 31,
   "metadata": {},
   "outputs": [],
   "source": [
    "# import json\n",
    "\n",
    "# # Read YOLO labels\n",
    "# yolo_labels = open(\"./yolo_label/BKF-BLUE-1_phone_%20(55).txt\", \"r\").readlines()"
   ]
  },
  {
   "cell_type": "code",
   "execution_count": 36,
   "metadata": {},
   "outputs": [],
   "source": [
    "# import base64\n",
    "\n",
    "\n",
    "# image_width = 2600\n",
    "# image_height = 2600\n",
    "\n",
    "\n",
    "# class_map = {\n",
    "#             0.0: 'person',\n",
    "#             1.0: 'phone',\n",
    "#             # Add more class mappings as needed\n",
    "#         }\n",
    "# labelme_annotations = []\n",
    "\n",
    "# # For each YOLO label\n",
    "# for yolo_label in yolo_labels:\n",
    "#     values = yolo_label.split()\n",
    "#     class_id, x_center, y_center, width, height = map(float, values)\n",
    "#     # Calculate LabelMe coordinates\n",
    "#     x_top_left = int((x_center - width / 2) * image_width)\n",
    "#     y_top_left = int((y_center - height / 2) * image_height)\n",
    "#     x_bottom_right = int((x_center + width / 2) * image_width)\n",
    "#     y_bottom_right = int((y_center + height / 2) * image_height)\n",
    "    \n",
    "#     labelme_annotation = {\n",
    "#         \"label\": class_map[class_id],  # Replace with actual class name\n",
    "#         \"points\": [[x_top_left, y_top_left], [x_bottom_right, y_bottom_right]],\n",
    "#         \"description\": \"\",\n",
    "#         \"shape_type\": \"rectangle\"\n",
    "#     }\n",
    "    \n",
    "#     # Create or append to the LabelMe JSON\n",
    "#     # You'll need to manage annotations per image in your actual code\n",
    "#     labelme_annotations.append(labelme_annotation)\n",
    "\n",
    "# json_file_full = {\n",
    "#     \"version\": \"5.3.0a0\",\n",
    "#     \"flags\": {},\n",
    "#     \"shapes\" : labelme_annotations,\n",
    "#     \"imagePath\": \"BKF-BLUE-1_phone_%20(55).jpg\",\n",
    "#     \"imageData\" : None\n",
    "# }\n",
    "\n",
    "\n",
    "# with open(\"./yolo_label/BKF-BLUE-1_phone_%20(55).json\", \"w\") as json_file:\n",
    "#     json.dump(json_file_full, json_file)"
   ]
  },
  {
   "cell_type": "code",
   "execution_count": 33,
   "metadata": {},
   "outputs": [
    {
     "data": {
      "text/plain": [
       "[{'label': 'phone',\n",
       "  'points': [[891, 644], [973, 734]],\n",
       "  'description': '',\n",
       "  'shape_type': 'rectangle'},\n",
       " {'label': 'person',\n",
       "  'points': [[797, 666], [1183, 1131]],\n",
       "  'description': '',\n",
       "  'shape_type': 'rectangle'}]"
      ]
     },
     "execution_count": 33,
     "metadata": {},
     "output_type": "execute_result"
    }
   ],
   "source": [
    "labelme_annotations"
   ]
  },
  {
   "cell_type": "markdown",
   "metadata": {},
   "source": [
    "# convert yolo to coco class"
   ]
  },
  {
   "cell_type": "code",
   "execution_count": 13,
   "metadata": {},
   "outputs": [],
   "source": [
    "import os\n",
    "import json\n",
    "import cv2\n",
    "from tqdm import tqdm"
   ]
  },
  {
   "cell_type": "code",
   "execution_count": 25,
   "metadata": {},
   "outputs": [],
   "source": [
    "# # Define the file path\n",
    "# file_path = '../assets/crop-img/073/labels/0730_14.txt'\n",
    "\n",
    "# # Read the file\n",
    "# with open(file_path, 'r') as file:\n",
    "#     lines = file.readlines()\n",
    "#     print(f\"old : {lines}\")\n",
    "\n",
    "# # Process the lines\n",
    "# new_lines = []\n",
    "# for line in lines:\n",
    "#     if line.startswith('1 '):\n",
    "#         new_line = line.replace('1 ', '67 ', 1)\n",
    "#         new_lines.append(new_line)\n",
    "#     else:\n",
    "#         new_lines.append(line)\n",
    "# print(f\"replace to : {new_lines}\")"
   ]
  },
  {
   "cell_type": "code",
   "execution_count": 30,
   "metadata": {},
   "outputs": [
    {
     "data": {
      "text/plain": [
       "['NKA-ch8_1.txt',\n",
       " 'NKA-ch8_2.txt',\n",
       " 'NKA-ch8_3.txt',\n",
       " 'NKA-ch8_4.txt',\n",
       " 'NKA-ch8_6.txt']"
      ]
     },
     "execution_count": 30,
     "metadata": {},
     "output_type": "execute_result"
    }
   ],
   "source": [
    "focus_site = \"NKA\"\n",
    "input_dir = f'../assets/crop-img/{focus_site}/labels'\n",
    "output_dir = f'../assets/crop-img/{focus_site}/labels_coco'\n",
    "\n",
    "\n",
    "label_files = os.listdir(input_dir)\n",
    "os.makedirs(output_dir, exist_ok=True)\n",
    "label_files[:5]"
   ]
  },
  {
   "cell_type": "code",
   "execution_count": 31,
   "metadata": {},
   "outputs": [
    {
     "name": "stderr",
     "output_type": "stream",
     "text": [
      "100%|██████████| 33/33 [00:00<00:00, 552.32it/s]\n"
     ]
    }
   ],
   "source": [
    "for file_name in tqdm(label_files):\n",
    "    # Read the input file\n",
    "    # print(os.path.join(input_dir, file_name))\n",
    "    # print(input_dir + '/' + file_name)\n",
    "    with open(os.path.join(input_dir, file_name), 'r') as file:\n",
    "        lines = file.readlines()\n",
    "        # print(lines)\n",
    "\n",
    "    # Process the lines\n",
    "    new_lines = []\n",
    "    for line in lines:\n",
    "        if line.startswith('1 '):\n",
    "            new_line = line.replace('1 ', '67 ', 1) # change phone to cell phone coco\n",
    "            new_lines.append(new_line)\n",
    "        else:\n",
    "            new_lines.append(line)\n",
    "\n",
    "    # Write the updated content to the new file\n",
    "    with open(os.path.join(output_dir,file_name), 'w') as file:\n",
    "        file.writelines(new_lines)"
   ]
  },
  {
   "cell_type": "code",
   "execution_count": null,
   "metadata": {},
   "outputs": [],
   "source": []
  }
 ],
 "metadata": {
  "kernelspec": {
   "display_name": "cv",
   "language": "python",
   "name": "python3"
  },
  "language_info": {
   "codemirror_mode": {
    "name": "ipython",
    "version": 3
   },
   "file_extension": ".py",
   "mimetype": "text/x-python",
   "name": "python",
   "nbconvert_exporter": "python",
   "pygments_lexer": "ipython3",
   "version": "3.8.18"
  },
  "orig_nbformat": 4
 },
 "nbformat": 4,
 "nbformat_minor": 2
}
