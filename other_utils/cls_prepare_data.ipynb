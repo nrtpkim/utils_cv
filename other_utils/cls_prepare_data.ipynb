{
 "cells": [
  {
   "cell_type": "markdown",
   "metadata": {},
   "source": [
    "# split camera"
   ]
  },
  {
   "cell_type": "code",
   "execution_count": 47,
   "metadata": {},
   "outputs": [],
   "source": [
    "import os\n",
    "import pandas as pd"
   ]
  },
  {
   "cell_type": "code",
   "execution_count": 48,
   "metadata": {},
   "outputs": [
    {
     "data": {
      "text/plain": [
       "['direct_face', 'spoofing_face', 'mask_on_chin_cap', 'full_body']"
      ]
     },
     "execution_count": 48,
     "metadata": {},
     "output_type": "execute_result"
    }
   ],
   "source": [
    "os.listdir(\"../../../datasets/Direct_face/batch2/clean\")"
   ]
  },
  {
   "cell_type": "code",
   "execution_count": 49,
   "metadata": {},
   "outputs": [],
   "source": [
    "import os\n",
    "root_dir = '../../../datasets/Direct_face/batch2/clean'\n",
    "image_extensions = ('.jpg', '.jpeg', '.png', '.gif', '.bmp', '.tiff')\n",
    "file_name_arr = []\n",
    "file_path_arr = []\n",
    "\n",
    "for root, dirs, files in os.walk(root_dir):\n",
    "    for file in files:\n",
    "        if file.endswith(image_extensions):\n",
    "            file_path_arr.append(os.path.join(root, file))\n",
    "            file_name_arr.append(file)\n",
    "            # print(file, \"_\", root)\n"
   ]
  },
  {
   "cell_type": "code",
   "execution_count": 50,
   "metadata": {},
   "outputs": [
    {
     "data": {
      "text/html": [
       "<div>\n",
       "<style scoped>\n",
       "    .dataframe tbody tr th:only-of-type {\n",
       "        vertical-align: middle;\n",
       "    }\n",
       "\n",
       "    .dataframe tbody tr th {\n",
       "        vertical-align: top;\n",
       "    }\n",
       "\n",
       "    .dataframe thead th {\n",
       "        text-align: right;\n",
       "    }\n",
       "</style>\n",
       "<table border=\"1\" class=\"dataframe\">\n",
       "  <thead>\n",
       "    <tr style=\"text-align: right;\">\n",
       "      <th></th>\n",
       "      <th>file_name</th>\n",
       "      <th>file_path</th>\n",
       "      <th>cls</th>\n",
       "    </tr>\n",
       "  </thead>\n",
       "  <tbody>\n",
       "    <tr>\n",
       "      <th>0</th>\n",
       "      <td>IMG_CPFGS_LG0_CPFGS00175_DriverImage_202308211...</td>\n",
       "      <td>../../../datasets/Direct_face/batch2/clean\\dir...</td>\n",
       "      <td>direct_face</td>\n",
       "    </tr>\n",
       "    <tr>\n",
       "      <th>1</th>\n",
       "      <td>IMG_CPFGS_LG0_CPFGS01569_DriverImage_202308311...</td>\n",
       "      <td>../../../datasets/Direct_face/batch2/clean\\dir...</td>\n",
       "      <td>direct_face</td>\n",
       "    </tr>\n",
       "    <tr>\n",
       "      <th>2</th>\n",
       "      <td>IMG_CPFGS_LG0_CPFGS01886_DriverImage_202308231...</td>\n",
       "      <td>../../../datasets/Direct_face/batch2/clean\\dir...</td>\n",
       "      <td>direct_face</td>\n",
       "    </tr>\n",
       "    <tr>\n",
       "      <th>3</th>\n",
       "      <td>IMG_CPFGS_LG0_CPFGS003416193_DriverImage_20231...</td>\n",
       "      <td>../../../datasets/Direct_face/batch2/clean\\dir...</td>\n",
       "      <td>direct_face</td>\n",
       "    </tr>\n",
       "    <tr>\n",
       "      <th>4</th>\n",
       "      <td>IMG_CPFGS_LG0_CPFGS01648_DriverImage_202308211...</td>\n",
       "      <td>../../../datasets/Direct_face/batch2/clean\\dir...</td>\n",
       "      <td>direct_face</td>\n",
       "    </tr>\n",
       "    <tr>\n",
       "      <th>...</th>\n",
       "      <td>...</td>\n",
       "      <td>...</td>\n",
       "      <td>...</td>\n",
       "    </tr>\n",
       "    <tr>\n",
       "      <th>662</th>\n",
       "      <td>IMG_CPFGS_LG0_CPFGS000445170_DriverImage_20240...</td>\n",
       "      <td>../../../datasets/Direct_face/batch2/clean\\ful...</td>\n",
       "      <td>full_body</td>\n",
       "    </tr>\n",
       "    <tr>\n",
       "      <th>663</th>\n",
       "      <td>IMG_CPFGS_LG0_CPFGS003340499_DriverImage_20240...</td>\n",
       "      <td>../../../datasets/Direct_face/batch2/clean\\ful...</td>\n",
       "      <td>full_body</td>\n",
       "    </tr>\n",
       "    <tr>\n",
       "      <th>664</th>\n",
       "      <td>IMG_CPFGS_LG0_CPFGS00371_DriverImage_202308211...</td>\n",
       "      <td>../../../datasets/Direct_face/batch2/clean\\ful...</td>\n",
       "      <td>full_body</td>\n",
       "    </tr>\n",
       "    <tr>\n",
       "      <th>665</th>\n",
       "      <td>IMG_CPFGS_LG0_CPFGS01967_DriverImage_202308231...</td>\n",
       "      <td>../../../datasets/Direct_face/batch2/clean\\ful...</td>\n",
       "      <td>full_body</td>\n",
       "    </tr>\n",
       "    <tr>\n",
       "      <th>666</th>\n",
       "      <td>IMG_CPFGS_LG0_CPFGS02820_DriverImage_202310211...</td>\n",
       "      <td>../../../datasets/Direct_face/batch2/clean\\ful...</td>\n",
       "      <td>full_body</td>\n",
       "    </tr>\n",
       "  </tbody>\n",
       "</table>\n",
       "<p>667 rows × 3 columns</p>\n",
       "</div>"
      ],
      "text/plain": [
       "                                             file_name  \\\n",
       "0    IMG_CPFGS_LG0_CPFGS00175_DriverImage_202308211...   \n",
       "1    IMG_CPFGS_LG0_CPFGS01569_DriverImage_202308311...   \n",
       "2    IMG_CPFGS_LG0_CPFGS01886_DriverImage_202308231...   \n",
       "3    IMG_CPFGS_LG0_CPFGS003416193_DriverImage_20231...   \n",
       "4    IMG_CPFGS_LG0_CPFGS01648_DriverImage_202308211...   \n",
       "..                                                 ...   \n",
       "662  IMG_CPFGS_LG0_CPFGS000445170_DriverImage_20240...   \n",
       "663  IMG_CPFGS_LG0_CPFGS003340499_DriverImage_20240...   \n",
       "664  IMG_CPFGS_LG0_CPFGS00371_DriverImage_202308211...   \n",
       "665  IMG_CPFGS_LG0_CPFGS01967_DriverImage_202308231...   \n",
       "666  IMG_CPFGS_LG0_CPFGS02820_DriverImage_202310211...   \n",
       "\n",
       "                                             file_path          cls  \n",
       "0    ../../../datasets/Direct_face/batch2/clean\\dir...  direct_face  \n",
       "1    ../../../datasets/Direct_face/batch2/clean\\dir...  direct_face  \n",
       "2    ../../../datasets/Direct_face/batch2/clean\\dir...  direct_face  \n",
       "3    ../../../datasets/Direct_face/batch2/clean\\dir...  direct_face  \n",
       "4    ../../../datasets/Direct_face/batch2/clean\\dir...  direct_face  \n",
       "..                                                 ...          ...  \n",
       "662  ../../../datasets/Direct_face/batch2/clean\\ful...    full_body  \n",
       "663  ../../../datasets/Direct_face/batch2/clean\\ful...    full_body  \n",
       "664  ../../../datasets/Direct_face/batch2/clean\\ful...    full_body  \n",
       "665  ../../../datasets/Direct_face/batch2/clean\\ful...    full_body  \n",
       "666  ../../../datasets/Direct_face/batch2/clean\\ful...    full_body  \n",
       "\n",
       "[667 rows x 3 columns]"
      ]
     },
     "execution_count": 50,
     "metadata": {},
     "output_type": "execute_result"
    }
   ],
   "source": [
    "import pandas as pd\n",
    "data = {\n",
    "    'file_name'  : file_name_arr,\n",
    "    'file_path' : file_path_arr,\n",
    "}\n",
    "\n",
    "df = pd.DataFrame(data)\n",
    "df['cls'] = df.file_path.str.split('\\\\',expand=True)[1]\n",
    "df"
   ]
  },
  {
   "cell_type": "code",
   "execution_count": 51,
   "metadata": {},
   "outputs": [
    {
     "data": {
      "text/plain": [
       "<Axes: >"
      ]
     },
     "execution_count": 51,
     "metadata": {},
     "output_type": "execute_result"
    },
    {
     "data": {
      "image/png": "[encoded data removed]",
      "text/plain": [
       "<Figure size 640x480 with 1 Axes>"
      ]
     },
     "metadata": {},
     "output_type": "display_data"
    }
   ],
   "source": [
    "df.cls.hist(bins = 10)"
   ]
  },
  {
   "cell_type": "code",
   "execution_count": 58,
   "metadata": {},
   "outputs": [],
   "source": [
    "from sklearn.model_selection import train_test_split\n",
    "x = df[['file_name','file_path','cls']]\n",
    "y = df[['cls']]\n",
    "\n",
    "# First, split into training + validation and test sets with stratification\n",
    "x_train_val, x_test, y_train_val, y_test = train_test_split(\n",
    "    x, y, test_size=0.2, stratify=y, random_state=42\n",
    ")\n",
    "\n",
    "# Then split the training+validation set into separate training and validation sets with stratification\n",
    "x_train, x_val, y_train, y_val = train_test_split(\n",
    "    x_train_val, y_train_val, test_size=0.2, stratify=y_train_val, random_state=42\n",
    ")"
   ]
  },
  {
   "cell_type": "code",
   "execution_count": 59,
   "metadata": {},
   "outputs": [
    {
     "name": "stdout",
     "output_type": "stream",
     "text": [
      "Training set: 426, Validation set: 107, Test set: 134\n"
     ]
    }
   ],
   "source": [
    "print(f\"Training set: {len(x_train)}, Validation set: {len(x_val)}, Test set: {len(x_test)}\")"
   ]
  },
  {
   "cell_type": "code",
   "execution_count": 60,
   "metadata": {},
   "outputs": [
    {
     "data": {
      "text/plain": [
       "cls\n",
       "spoofing_face       202\n",
       "direct_face         197\n",
       "mask_on_chin_cap     14\n",
       "full_body            13\n",
       "Name: count, dtype: int64"
      ]
     },
     "execution_count": 60,
     "metadata": {},
     "output_type": "execute_result"
    }
   ],
   "source": [
    "y_train.cls.value_counts()"
   ]
  },
  {
   "cell_type": "code",
   "execution_count": 61,
   "metadata": {},
   "outputs": [
    {
     "data": {
      "text/plain": [
       "cls\n",
       "spoofing_face       63\n",
       "direct_face         62\n",
       "mask_on_chin_cap     5\n",
       "full_body            4\n",
       "Name: count, dtype: int64"
      ]
     },
     "execution_count": 61,
     "metadata": {},
     "output_type": "execute_result"
    }
   ],
   "source": [
    "y_test.cls.value_counts()"
   ]
  },
  {
   "cell_type": "code",
   "execution_count": 62,
   "metadata": {},
   "outputs": [
    {
     "data": {
      "text/plain": [
       "cls\n",
       "spoofing_face       51\n",
       "direct_face         49\n",
       "mask_on_chin_cap     4\n",
       "full_body            3\n",
       "Name: count, dtype: int64"
      ]
     },
     "execution_count": 62,
     "metadata": {},
     "output_type": "execute_result"
    }
   ],
   "source": [
    "y_val.cls.value_counts()"
   ]
  },
  {
   "cell_type": "markdown",
   "metadata": {},
   "source": [
    "# Copy split train-test"
   ]
  },
  {
   "cell_type": "code",
   "execution_count": 63,
   "metadata": {},
   "outputs": [
    {
     "data": {
      "text/html": [
       "<div>\n",
       "<style scoped>\n",
       "    .dataframe tbody tr th:only-of-type {\n",
       "        vertical-align: middle;\n",
       "    }\n",
       "\n",
       "    .dataframe tbody tr th {\n",
       "        vertical-align: top;\n",
       "    }\n",
       "\n",
       "    .dataframe thead th {\n",
       "        text-align: right;\n",
       "    }\n",
       "</style>\n",
       "<table border=\"1\" class=\"dataframe\">\n",
       "  <thead>\n",
       "    <tr style=\"text-align: right;\">\n",
       "      <th></th>\n",
       "      <th>file_name</th>\n",
       "      <th>file_path</th>\n",
       "      <th>cls</th>\n",
       "    </tr>\n",
       "  </thead>\n",
       "  <tbody>\n",
       "    <tr>\n",
       "      <th>323</th>\n",
       "      <td>IMG_CPFGS_LG0_CPFGS02250_DriverImage_202308220...</td>\n",
       "      <td>../../../datasets/Direct_face/batch2/clean\\spo...</td>\n",
       "      <td>spoofing_face</td>\n",
       "    </tr>\n",
       "    <tr>\n",
       "      <th>340</th>\n",
       "      <td>IMG_CPFGS_LG0_CPFGS00827_DriverImage_202312250...</td>\n",
       "      <td>../../../datasets/Direct_face/batch2/clean\\spo...</td>\n",
       "      <td>spoofing_face</td>\n",
       "    </tr>\n",
       "  </tbody>\n",
       "</table>\n",
       "</div>"
      ],
      "text/plain": [
       "                                             file_name  \\\n",
       "323  IMG_CPFGS_LG0_CPFGS02250_DriverImage_202308220...   \n",
       "340  IMG_CPFGS_LG0_CPFGS00827_DriverImage_202312250...   \n",
       "\n",
       "                                             file_path            cls  \n",
       "323  ../../../datasets/Direct_face/batch2/clean\\spo...  spoofing_face  \n",
       "340  ../../../datasets/Direct_face/batch2/clean\\spo...  spoofing_face  "
      ]
     },
     "execution_count": 63,
     "metadata": {},
     "output_type": "execute_result"
    }
   ],
   "source": [
    "x_train.head(2)"
   ]
  },
  {
   "cell_type": "code",
   "execution_count": 64,
   "metadata": {},
   "outputs": [
    {
     "data": {
      "text/plain": [
       "'../../../datasets/Direct_face/batch2/clean\\\\spoofing_face\\\\IMG_CPFGS_LG0_CPFGS02250_DriverImage_20230822040947.jpeg'"
      ]
     },
     "execution_count": 64,
     "metadata": {},
     "output_type": "execute_result"
    }
   ],
   "source": [
    "x_train.file_path.iloc[0]"
   ]
  },
  {
   "cell_type": "code",
   "execution_count": 65,
   "metadata": {},
   "outputs": [],
   "source": [
    "root_source = None\n",
    "root_destination = '../../../datasets/Direct_face/batch2/clean_split'"
   ]
  },
  {
   "cell_type": "code",
   "execution_count": 69,
   "metadata": {},
   "outputs": [
    {
     "name": "stderr",
     "output_type": "stream",
     "text": [
      "107it [00:01, 102.21it/s]"
     ]
    },
    {
     "name": "stdout",
     "output_type": "stream",
     "text": [
      "File copied successfully!\n"
     ]
    },
    {
     "name": "stderr",
     "output_type": "stream",
     "text": [
      "\n"
     ]
    }
   ],
   "source": [
    "from tqdm import tqdm\n",
    "import shutil\n",
    "\n",
    "df_copy = x_val\n",
    "\n",
    "for file_name, file_path, cls in tqdm(zip(df_copy.file_name.iloc[:], df_copy.file_path.iloc[:], df_copy.cls.iloc[:])):\n",
    "    source = file_path\n",
    "    destination = f\"{root_destination}/val/{cls}/{file_name}\"\n",
    "\n",
    "    # Copy file\n",
    "    shutil.copy(source, destination)\n",
    "\n",
    "print(\"File copied successfully!\")"
   ]
  },
  {
   "cell_type": "code",
   "execution_count": null,
   "metadata": {},
   "outputs": [],
   "source": []
  }
 ],
 "metadata": {
  "kernelspec": {
   "display_name": "lab",
   "language": "python",
   "name": "python3"
  },
  "language_info": {
   "codemirror_mode": {
    "name": "ipython",
    "version": 3
   },
   "file_extension": ".py",
   "mimetype": "text/x-python",
   "name": "python",
   "nbconvert_exporter": "python",
   "pygments_lexer": "ipython3",
   "version": "3.8.18"
  }
 },
 "nbformat": 4,
 "nbformat_minor": 2
}
