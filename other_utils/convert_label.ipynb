{
 "cells": [
  {
   "cell_type": "markdown",
   "metadata": {},
   "source": [
    "# Labelme to Yolo"
   ]
  },
  {
   "cell_type": "code",
   "execution_count": 6,
   "metadata": {},
   "outputs": [],
   "source": [
    "# import json\n",
    "  \n",
    "# # Opening JSON file\n",
    "# f = open('BKF-BLUE-1_phone_ (150).json')\n",
    "  \n",
    "# # returns JSON object as \n",
    "# # a dictionary\n",
    "# data = json.load(f)\n",
    "  \n",
    "# # Iterating through the json\n",
    "# # list\n",
    "# for i in data['shapes']:\n",
    "#     print(i)\n",
    "  \n",
    "# # Closing file\n",
    "# f.close()"
   ]
  },
  {
   "cell_type": "code",
   "execution_count": 8,
   "metadata": {},
   "outputs": [
    {
     "name": "stderr",
     "output_type": "stream",
     "text": [
      "  0%|          | 0/102 [00:00<?, ?it/s]\n"
     ]
    },
    {
     "ename": "AttributeError",
     "evalue": "'NoneType' object has no attribute 'shape'",
     "output_type": "error",
     "traceback": [
      "\u001b[1;31m---------------------------------------------------------------------------\u001b[0m",
      "\u001b[1;31mAttributeError\u001b[0m                            Traceback (most recent call last)",
      "Cell \u001b[1;32mIn[8], line 67\u001b[0m\n\u001b[0;32m     64\u001b[0m name \u001b[38;5;241m=\u001b[39m json_file\u001b[38;5;241m.\u001b[39msplit(\u001b[38;5;124m'\u001b[39m\u001b[38;5;124m.json\u001b[39m\u001b[38;5;124m'\u001b[39m)[\u001b[38;5;241m0\u001b[39m]\n\u001b[0;32m     65\u001b[0m os\u001b[38;5;241m.\u001b[39mmakedirs(output_dir, exist_ok\u001b[38;5;241m=\u001b[39m\u001b[38;5;28;01mTrue\u001b[39;00m)\n\u001b[1;32m---> 67\u001b[0m yolo_lines \u001b[38;5;241m=\u001b[39m \u001b[43mlabelme_to_yolo\u001b[49m\u001b[43m(\u001b[49m\u001b[43msource_dir\u001b[49m\u001b[43m,\u001b[49m\u001b[43m \u001b[49m\u001b[43mclass_map\u001b[49m\u001b[43m,\u001b[49m\u001b[43m \u001b[49m\u001b[43mimage_folder\u001b[49m\u001b[38;5;241;43m=\u001b[39;49m\u001b[43m \u001b[49m\u001b[43mfocus_folder\u001b[49m\u001b[43m,\u001b[49m\u001b[43m \u001b[49m\u001b[43mfile_name\u001b[49m\u001b[38;5;241;43m=\u001b[39;49m\u001b[43mname\u001b[49m\u001b[43m)\u001b[49m\n\u001b[0;32m     68\u001b[0m image_name \u001b[38;5;241m=\u001b[39m os\u001b[38;5;241m.\u001b[39mpath\u001b[38;5;241m.\u001b[39msplitext(os\u001b[38;5;241m.\u001b[39mpath\u001b[38;5;241m.\u001b[39mbasename(json_file))[\u001b[38;5;241m0\u001b[39m]\n\u001b[0;32m     69\u001b[0m output_file \u001b[38;5;241m=\u001b[39m os\u001b[38;5;241m.\u001b[39mpath\u001b[38;5;241m.\u001b[39mjoin(output_dir, \u001b[38;5;124mf\u001b[39m\u001b[38;5;124m\"\u001b[39m\u001b[38;5;132;01m{\u001b[39;00mimage_name\u001b[38;5;132;01m}\u001b[39;00m\u001b[38;5;124m.txt\u001b[39m\u001b[38;5;124m\"\u001b[39m)\n",
      "Cell \u001b[1;32mIn[8], line 14\u001b[0m, in \u001b[0;36mlabelme_to_yolo\u001b[1;34m(json_path, class_map, image_folder, file_name)\u001b[0m\n\u001b[0;32m     10\u001b[0m \u001b[38;5;66;03m# image_width = data['imageWidth']\u001b[39;00m\n\u001b[0;32m     11\u001b[0m \u001b[38;5;66;03m# image_height = data['imageHeight']\u001b[39;00m\n\u001b[0;32m     13\u001b[0m image \u001b[38;5;241m=\u001b[39m cv2\u001b[38;5;241m.\u001b[39mimread(image_folder \u001b[38;5;241m+\u001b[39m file_name\u001b[38;5;241m+\u001b[39m \u001b[38;5;124m'\u001b[39m\u001b[38;5;124m.jpg\u001b[39m\u001b[38;5;124m'\u001b[39m)\n\u001b[1;32m---> 14\u001b[0m image_height, image_width, channels \u001b[38;5;241m=\u001b[39m \u001b[43mimage\u001b[49m\u001b[38;5;241;43m.\u001b[39;49m\u001b[43mshape\u001b[49m\n\u001b[0;32m     16\u001b[0m yolo_lines \u001b[38;5;241m=\u001b[39m []\n\u001b[0;32m     17\u001b[0m \u001b[38;5;28;01mfor\u001b[39;00m shape \u001b[38;5;129;01min\u001b[39;00m data[\u001b[38;5;124m'\u001b[39m\u001b[38;5;124mshapes\u001b[39m\u001b[38;5;124m'\u001b[39m]:\n",
      "\u001b[1;31mAttributeError\u001b[0m: 'NoneType' object has no attribute 'shape'"
     ]
    }
   ],
   "source": [
    "import json\n",
    "import os\n",
    "import cv2\n",
    "from tqdm import tqdm\n",
    "\n",
    "def labelme_to_yolo(json_path, class_map, image_folder, file_name):\n",
    "    with open(json_path, 'r') as f:\n",
    "        data = json.load(f)\n",
    "\n",
    "    # image_width = data['imageWidth']\n",
    "    # image_height = data['imageHeight']\n",
    "\n",
    "    image = cv2.imread(image_folder + file_name+ '.jpg')\n",
    "    image_height, image_width, channels = image.shape\n",
    "\n",
    "    yolo_lines = []\n",
    "    for shape in data['shapes']:\n",
    "        \n",
    "        label = shape['label']\n",
    "        class_index = class_map.get(label, -1)\n",
    "        if class_index == -1:\n",
    "            print(\"Class map out of dict, Please edit class map\")\n",
    "            continue\n",
    "            \n",
    "        points = shape['points']\n",
    "        x_min = min(points, key=lambda x: x[0])[0]\n",
    "        x_max = max(points, key=lambda x: x[0])[0]\n",
    "        y_min = min(points, key=lambda x: x[1])[1]\n",
    "        y_max = max(points, key=lambda x: x[1])[1]\n",
    "\n",
    "\n",
    "        x_center = (x_min + x_max) / (2.0 * image_width)\n",
    "        y_center = (y_min + y_max) / (2.0 * image_height)\n",
    "        width = (x_max - x_min) / image_width\n",
    "        height = (y_max - y_min) / image_height\n",
    "\n",
    "        yolo_lines.append(f\"{class_index} {x_center:.6f} {y_center:.6f} {width:.6f} {height:.6f}\")\n",
    "\n",
    "    return yolo_lines\n",
    "\n",
    "# Example usage:\n",
    "if __name__ == '__main__':\n",
    "    focus_site = \"073\"\n",
    "    # focus_folder = './batch1-2/person-phone/crop_phone'\n",
    "    focus_folder = f'../assets/crop-img/{focus_site}/images/'\n",
    "    # focus_folder = './person-phone/post-prd-12-2023/post-prd-batch-12-2023/images/'\n",
    "    # focus_folder = './img/'\n",
    "    file_list = os.listdir(focus_folder)\n",
    "    json_files = [filename for filename in file_list if filename.endswith('.json')]\n",
    "\n",
    "\n",
    "    for json_file in tqdm(json_files):\n",
    "        # json_file = 'BKF-BLUE-1_phone_ (150).json'\n",
    "        source_dir = os.path.join(focus_folder, json_file)\n",
    "        # output_dir = './yolo_label'\n",
    "        output_dir = f\"../assets/crop-img/{focus_site}/labels_coco/\"\n",
    "        class_map = {\n",
    "            # 'car' : 0\n",
    "            'person': 0,\n",
    "            'phone': 67,\n",
    "            # Add more class mappings as needed\n",
    "        }\n",
    "\n",
    "        name = json_file.split('.json')[0]\n",
    "        os.makedirs(output_dir, exist_ok=True)\n",
    "\n",
    "        yolo_lines = labelme_to_yolo(source_dir, class_map, image_folder= focus_folder, file_name=name)\n",
    "        image_name = os.path.splitext(os.path.basename(json_file))[0]\n",
    "        output_file = os.path.join(output_dir, f\"{image_name}.txt\")\n",
    "\n",
    "        with open(output_file, 'w') as f:\n",
    "            f.write('\\n'.join(yolo_lines))"
   ]
  },
  {
   "cell_type": "code",
   "execution_count": 1,
   "metadata": {},
   "outputs": [],
   "source": [
    "# file_list = os.listdir('batch1-2')\n",
    "\n",
    "# json_files = [filename for filename in file_list if filename.endswith('.json')]\n",
    "\n",
    "# print(json_files)"
   ]
  },
  {
   "cell_type": "code",
   "execution_count": null,
   "metadata": {},
   "outputs": [],
   "source": []
  },
  {
   "cell_type": "code",
   "execution_count": null,
   "metadata": {},
   "outputs": [],
   "source": []
  },
  {
   "cell_type": "code",
   "execution_count": null,
   "metadata": {},
   "outputs": [],
   "source": []
  },
  {
   "cell_type": "code",
   "execution_count": null,
   "metadata": {},
   "outputs": [],
   "source": []
  },
  {
   "cell_type": "code",
   "execution_count": null,
   "metadata": {},
   "outputs": [],
   "source": []
  },
  {
   "cell_type": "code",
   "execution_count": null,
   "metadata": {},
   "outputs": [],
   "source": []
  },
  {
   "cell_type": "code",
   "execution_count": 4,
   "metadata": {},
   "outputs": [
    {
     "name": "stdout",
     "output_type": "stream",
     "text": [
      "{'label': 'person_with_phone', 'points': [[1608.108108108108, 1105.4054054054054], [2132.4324324324325, 1505.4054054054054]], 'group_id': None, 'description': '', 'shape_type': 'rectangle', 'flags': {}}\n",
      "{'label': 'person', 'points': [[2278.3783783783783, 1086.4864864864865], [2513.5135135135133, 1232.4324324324325]], 'group_id': None, 'description': '', 'shape_type': 'rectangle', 'flags': {}}\n"
     ]
    }
   ],
   "source": [
    "import json\n",
    "  \n",
    "# Opening JSON file\n",
    "f = open('BKF-BLUE-1_phone_ (150).json')\n",
    "  \n",
    "# returns JSON object as \n",
    "# a dictionary\n",
    "data = json.load(f)\n",
    "  \n",
    "# Iterating through the json\n",
    "# list\n",
    "for i in data['shapes']:\n",
    "    print(i)\n",
    "  \n",
    "# Closing file\n",
    "f.close()"
   ]
  },
  {
   "cell_type": "code",
   "execution_count": 8,
   "metadata": {},
   "outputs": [],
   "source": [
    "import json\n",
    "import os\n",
    "def labelme_to_yolo(labelme_annotation, image_width, image_height, class_map=None):\n",
    "    label = labelme_annotation['label']\n",
    "    points = labelme_annotation['points']\n",
    "\n",
    "    x_min = min(points, key=lambda x: x[0])[0]\n",
    "    x_max = max(points, key=lambda x: x[0])[0]\n",
    "    y_min = min(points, key=lambda x: x[1])[1]\n",
    "    y_max = max(points, key=lambda x: x[1])[1]\n",
    "\n",
    "    x_center = (x_min + x_max) / (2.0 * image_width)\n",
    "    y_center = (y_min + y_max) / (2.0 * image_height)\n",
    "    width = (x_max - x_min) / image_width\n",
    "    height = (y_max - y_min) / image_height\n",
    "\n",
    "    yolo_format = f\"{class_map[label] if class_map else label} {x_center:.6f} {y_center:.6f} {width:.6f} {height:.6f}\"\n",
    "    return yolo_format"
   ]
  },
  {
   "cell_type": "code",
   "execution_count": 9,
   "metadata": {},
   "outputs": [
    {
     "name": "stdout",
     "output_type": "stream",
     "text": [
      "1 0.719335 0.502079 0.201663 0.153846\n"
     ]
    }
   ],
   "source": [
    "# Sample labelme annotation data\n",
    "labelme_annotation = {\n",
    "    'label': 'person_with_phone',\n",
    "    'points': [[1608.108108108108, 1105.4054054054054], [2132.4324324324325, 1505.4054054054054]],\n",
    "}\n",
    "\n",
    "# Image width and height (you need to set these values according to your image size)\n",
    "image_width = 2600\n",
    "image_height = 2600\n",
    "\n",
    "# Class index mapping (optional)\n",
    "class_map = {\n",
    "    'person': 0,\n",
    "    'person_with_phone': 1,\n",
    "    # Add more class mappings as needed\n",
    "}\n",
    "\n",
    "yolo_annotation = labelme_to_yolo(labelme_annotation, image_width, image_height, class_map)\n",
    "print(yolo_annotation)"
   ]
  },
  {
   "cell_type": "code",
   "execution_count": null,
   "metadata": {},
   "outputs": [],
   "source": []
  },
  {
   "cell_type": "markdown",
   "metadata": {},
   "source": [
    "# Convert yolo to labelme"
   ]
  },
  {
   "cell_type": "code",
   "execution_count": 1,
   "metadata": {},
   "outputs": [
    {
     "data": {
      "text/plain": [
       "['BKF-Inspection_phone_2023-12-06_09-37-07.436000.txt',\n",
       " 'BKF-Inspection_phone_2023-12-28_08-57-11.100000.txt',\n",
       " 'BKF-Inspection_phone_2023-12-28_08-19-22.174000.txt',\n",
       " 'BKF-Inspection_phone_2023-12-28_08-02-17.500000.txt',\n",
       " 'BKF-Inspection_phone_2023-12-28_07-58-23.063000.txt']"
      ]
     },
     "execution_count": 1,
     "metadata": {},
     "output_type": "execute_result"
    }
   ],
   "source": [
    "import os\n",
    "import json\n",
    "import cv2\n",
    "from tqdm import tqdm\n",
    "\n",
    "label_files = os.listdir('./person-phone/post-prd-12-2023/post-prd-batch-12-2023/phone/labels/')\n",
    "label_files[:5]"
   ]
  },
  {
   "cell_type": "code",
   "execution_count": 2,
   "metadata": {},
   "outputs": [
    {
     "name": "stderr",
     "output_type": "stream",
     "text": [
      "  0%|          | 0/1342 [00:00<?, ?it/s]"
     ]
    },
    {
     "name": "stderr",
     "output_type": "stream",
     "text": [
      "100%|██████████| 1342/1342 [00:22<00:00, 58.55it/s]\n"
     ]
    }
   ],
   "source": [
    "class_map = {\n",
    "            0.0: 'person',\n",
    "            1.0: 'phone',\n",
    "            # Add more class mappings as needed\n",
    "        }\n",
    "\n",
    "for file_txt_name in tqdm(label_files):\n",
    "    file_name = file_txt_name.split('.txt')[0]\n",
    "    image_folder = './person-phone/post-prd-12-2023/post-prd-batch-12-2023/phone/images/'\n",
    "    txt_folder = './person-phone/post-prd-12-2023/post-prd-batch-12-2023/phone/labels/'\n",
    "\n",
    "    image = cv2.imread(image_folder + file_name+ '.jpg')\n",
    "    image_height, image_width, channels = image.shape\n",
    "\n",
    "    \n",
    "    yolo_labels = open(txt_folder + file_name + '.txt', \"r\").readlines()\n",
    "\n",
    "    labelme_annotations = []\n",
    "    # For each YOLO label\n",
    "    for yolo_label in yolo_labels:\n",
    "        values = yolo_label.split()\n",
    "        class_id, x_center, y_center, width, height = map(float, values)\n",
    "        # Calculate LabelMe coordinates\n",
    "        x_top_left = int((x_center - width / 2) * image_width)\n",
    "        y_top_left = int((y_center - height / 2) * image_height)\n",
    "        x_bottom_right = int((x_center + width / 2) * image_width)\n",
    "        y_bottom_right = int((y_center + height / 2) * image_height)\n",
    "        \n",
    "        labelme_annotation = {\n",
    "            \"label\": class_map[class_id],  # Replace with actual class name\n",
    "            \"points\": [[x_top_left, y_top_left], [x_bottom_right, y_bottom_right]],\n",
    "            \"description\": \"\",\n",
    "            \"shape_type\": \"rectangle\"\n",
    "        }\n",
    "        \n",
    "        # Create or append to the LabelMe JSON\n",
    "        # You'll need to manage annotations per image in your actual code\n",
    "        labelme_annotations.append(labelme_annotation)\n",
    "\n",
    "    json_file_full = {\n",
    "        \"version\": \"5.3.0a0\",\n",
    "        \"flags\": {},\n",
    "        \"shapes\" : labelme_annotations,\n",
    "        \"imagePath\": file_name + '.jpg',\n",
    "        \"imageData\" : None\n",
    "    }\n",
    "\n",
    "\n",
    "    with open(\"./img/\" + file_name + \".json\", \"w\") as json_file:\n",
    "        json.dump(json_file_full, json_file)\n"
   ]
  },
  {
   "cell_type": "code",
   "execution_count": null,
   "metadata": {},
   "outputs": [],
   "source": []
  },
  {
   "cell_type": "code",
   "execution_count": null,
   "metadata": {},
   "outputs": [],
   "source": []
  },
  {
   "cell_type": "code",
   "execution_count": null,
   "metadata": {},
   "outputs": [],
   "source": []
  },
  {
   "cell_type": "code",
   "execution_count": 31,
   "metadata": {},
   "outputs": [],
   "source": [
    "# import json\n",
    "\n",
    "# # Read YOLO labels\n",
    "# yolo_labels = open(\"./yolo_label/BKF-BLUE-1_phone_%20(55).txt\", \"r\").readlines()"
   ]
  },
  {
   "cell_type": "code",
   "execution_count": 36,
   "metadata": {},
   "outputs": [],
   "source": [
    "# import base64\n",
    "\n",
    "\n",
    "# image_width = 2600\n",
    "# image_height = 2600\n",
    "\n",
    "\n",
    "# class_map = {\n",
    "#             0.0: 'person',\n",
    "#             1.0: 'phone',\n",
    "#             # Add more class mappings as needed\n",
    "#         }\n",
    "# labelme_annotations = []\n",
    "\n",
    "# # For each YOLO label\n",
    "# for yolo_label in yolo_labels:\n",
    "#     values = yolo_label.split()\n",
    "#     class_id, x_center, y_center, width, height = map(float, values)\n",
    "#     # Calculate LabelMe coordinates\n",
    "#     x_top_left = int((x_center - width / 2) * image_width)\n",
    "#     y_top_left = int((y_center - height / 2) * image_height)\n",
    "#     x_bottom_right = int((x_center + width / 2) * image_width)\n",
    "#     y_bottom_right = int((y_center + height / 2) * image_height)\n",
    "    \n",
    "#     labelme_annotation = {\n",
    "#         \"label\": class_map[class_id],  # Replace with actual class name\n",
    "#         \"points\": [[x_top_left, y_top_left], [x_bottom_right, y_bottom_right]],\n",
    "#         \"description\": \"\",\n",
    "#         \"shape_type\": \"rectangle\"\n",
    "#     }\n",
    "    \n",
    "#     # Create or append to the LabelMe JSON\n",
    "#     # You'll need to manage annotations per image in your actual code\n",
    "#     labelme_annotations.append(labelme_annotation)\n",
    "\n",
    "# json_file_full = {\n",
    "#     \"version\": \"5.3.0a0\",\n",
    "#     \"flags\": {},\n",
    "#     \"shapes\" : labelme_annotations,\n",
    "#     \"imagePath\": \"BKF-BLUE-1_phone_%20(55).jpg\",\n",
    "#     \"imageData\" : None\n",
    "# }\n",
    "\n",
    "\n",
    "# with open(\"./yolo_label/BKF-BLUE-1_phone_%20(55).json\", \"w\") as json_file:\n",
    "#     json.dump(json_file_full, json_file)"
   ]
  },
  {
   "cell_type": "code",
   "execution_count": 33,
   "metadata": {},
   "outputs": [
    {
     "data": {
      "text/plain": [
       "[{'label': 'phone',\n",
       "  'points': [[891, 644], [973, 734]],\n",
       "  'description': '',\n",
       "  'shape_type': 'rectangle'},\n",
       " {'label': 'person',\n",
       "  'points': [[797, 666], [1183, 1131]],\n",
       "  'description': '',\n",
       "  'shape_type': 'rectangle'}]"
      ]
     },
     "execution_count": 33,
     "metadata": {},
     "output_type": "execute_result"
    }
   ],
   "source": [
    "labelme_annotations"
   ]
  },
  {
   "cell_type": "markdown",
   "metadata": {},
   "source": [
    "# convert yolo to coco class"
   ]
  },
  {
   "cell_type": "code",
   "execution_count": 13,
   "metadata": {},
   "outputs": [],
   "source": [
    "import os\n",
    "import json\n",
    "import cv2\n",
    "from tqdm import tqdm"
   ]
  },
  {
   "cell_type": "code",
   "execution_count": 25,
   "metadata": {},
   "outputs": [],
   "source": [
    "# # Define the file path\n",
    "# file_path = '../assets/crop-img/073/labels/0730_14.txt'\n",
    "\n",
    "# # Read the file\n",
    "# with open(file_path, 'r') as file:\n",
    "#     lines = file.readlines()\n",
    "#     print(f\"old : {lines}\")\n",
    "\n",
    "# # Process the lines\n",
    "# new_lines = []\n",
    "# for line in lines:\n",
    "#     if line.startswith('1 '):\n",
    "#         new_line = line.replace('1 ', '67 ', 1)\n",
    "#         new_lines.append(new_line)\n",
    "#     else:\n",
    "#         new_lines.append(line)\n",
    "# print(f\"replace to : {new_lines}\")"
   ]
  },
  {
   "cell_type": "code",
   "execution_count": 30,
   "metadata": {},
   "outputs": [
    {
     "data": {
      "text/plain": [
       "['NKA-ch8_1.txt',\n",
       " 'NKA-ch8_2.txt',\n",
       " 'NKA-ch8_3.txt',\n",
       " 'NKA-ch8_4.txt',\n",
       " 'NKA-ch8_6.txt']"
      ]
     },
     "execution_count": 30,
     "metadata": {},
     "output_type": "execute_result"
    }
   ],
   "source": [
    "focus_site = \"NKA\"\n",
    "input_dir = f'../assets/crop-img/{focus_site}/labels'\n",
    "output_dir = f'../assets/crop-img/{focus_site}/labels_coco'\n",
    "\n",
    "\n",
    "label_files = os.listdir(input_dir)\n",
    "os.makedirs(output_dir, exist_ok=True)\n",
    "label_files[:5]"
   ]
  },
  {
   "cell_type": "code",
   "execution_count": 31,
   "metadata": {},
   "outputs": [
    {
     "name": "stderr",
     "output_type": "stream",
     "text": [
      "100%|██████████| 33/33 [00:00<00:00, 552.32it/s]\n"
     ]
    }
   ],
   "source": [
    "for file_name in tqdm(label_files):\n",
    "    # Read the input file\n",
    "    # print(os.path.join(input_dir, file_name))\n",
    "    # print(input_dir + '/' + file_name)\n",
    "    with open(os.path.join(input_dir, file_name), 'r') as file:\n",
    "        lines = file.readlines()\n",
    "        # print(lines)\n",
    "\n",
    "    # Process the lines\n",
    "    new_lines = []\n",
    "    for line in lines:\n",
    "        if line.startswith('1 '):\n",
    "            new_line = line.replace('1 ', '67 ', 1) # change phone to cell phone coco\n",
    "            new_lines.append(new_line)\n",
    "        else:\n",
    "            new_lines.append(line)\n",
    "\n",
    "    # Write the updated content to the new file\n",
    "    with open(os.path.join(output_dir,file_name), 'w') as file:\n",
    "        file.writelines(new_lines)"
   ]
  },
  {
   "cell_type": "code",
   "execution_count": null,
   "metadata": {},
   "outputs": [],
   "source": []
  },
  {
   "cell_type": "markdown",
   "metadata": {},
   "source": [
    "# Yolo to data studio"
   ]
  },
  {
   "cell_type": "markdown",
   "metadata": {},
   "source": [
    "### obj. Det"
   ]
  },
  {
   "cell_type": "code",
   "execution_count": 34,
   "metadata": {},
   "outputs": [],
   "source": [
    "import os\n",
    "import json\n",
    "from PIL import Image"
   ]
  },
  {
   "cell_type": "code",
   "execution_count": 35,
   "metadata": {},
   "outputs": [],
   "source": [
    "# Directory containing images and annotations\n",
    "image_dir = \"../assets/ex_object_det/images\"\n",
    "annotation_dir = \"../assets/ex_object_det/labels\"\n",
    "\n",
    "# Supported image extensions\n",
    "image_extensions = ['.jpg', '.png']\n",
    "label_map = {0: \"dog\", 1: \"cat\"}"
   ]
  },
  {
   "cell_type": "code",
   "execution_count": 36,
   "metadata": {},
   "outputs": [],
   "source": [
    "# List to store all the converted data\n",
    "label_studio_data_list = []"
   ]
  },
  {
   "cell_type": "code",
   "execution_count": 37,
   "metadata": {},
   "outputs": [
    {
     "name": "stdout",
     "output_type": "stream",
     "text": [
      "none (1).png\n",
      "{'data': {'image': 'none (1).png'}, 'predictions': [{'model_version': 'one', 'score': 0.5, 'result': []}]}\n",
      "none (3).png\n",
      "{'data': {'image': 'none (3).png'}, 'predictions': [{'model_version': 'one', 'score': 0.5, 'result': []}]}\n",
      "none (2).png\n",
      "{'data': {'image': 'none (2).png'}, 'predictions': [{'model_version': 'one', 'score': 0.5, 'result': []}]}\n",
      "x (1).jpg\n",
      "{'data': {'image': 'x (1).jpg'}, 'predictions': [{'model_version': 'one', 'score': 0.5, 'result': [{'id': 'result2', 'type': 'rectanglelabels', 'from_name': 'label', 'to_name': 'image', 'original_width': 2546, 'original_height': 1180, 'image_rotation': 0, 'value': {'rotation': 0, 'x': 67, 'y': 155, 'width': 702, 'height': 990, 'rectanglelabels': ['dog']}}, {'id': 'result3', 'type': 'rectanglelabels', 'from_name': 'label', 'to_name': 'image', 'original_width': 2546, 'original_height': 1180, 'image_rotation': 0, 'value': {'rotation': 0, 'x': 982, 'y': 83, 'width': 581, 'height': 1063, 'rectanglelabels': ['dog']}}, {'id': 'result4', 'type': 'rectanglelabels', 'from_name': 'label', 'to_name': 'image', 'original_width': 2546, 'original_height': 1180, 'image_rotation': 0, 'value': {'rotation': 0, 'x': 1900, 'y': 65, 'width': 543, 'height': 1077, 'rectanglelabels': ['dog']}}, {'id': 'result5', 'type': 'rectanglelabels', 'from_name': 'label', 'to_name': 'image', 'original_width': 2546, 'original_height': 1180, 'image_rotation': 0, 'value': {'rotation': 0, 'x': 707, 'y': 445, 'width': 318, 'height': 703, 'rectanglelabels': ['cat']}}, {'id': 'result6', 'type': 'rectanglelabels', 'from_name': 'label', 'to_name': 'image', 'original_width': 2546, 'original_height': 1180, 'image_rotation': 0, 'value': {'rotation': 0, 'x': 1562, 'y': 410, 'width': 371, 'height': 736, 'rectanglelabels': ['cat']}}]}]}\n",
      "x (2).jpg\n",
      "{'data': {'image': 'x (2).jpg'}, 'predictions': [{'model_version': 'one', 'score': 0.5, 'result': [{'id': 'result2', 'type': 'rectanglelabels', 'from_name': 'label', 'to_name': 'image', 'original_width': 800, 'original_height': 403, 'image_rotation': 0, 'value': {'rotation': 0, 'x': 43, 'y': 27, 'width': 492, 'height': 357, 'rectanglelabels': ['dog']}}, {'id': 'result3', 'type': 'rectanglelabels', 'from_name': 'label', 'to_name': 'image', 'original_width': 800, 'original_height': 403, 'image_rotation': 0, 'value': {'rotation': 0, 'x': 496, 'y': 55, 'width': 274, 'height': 224, 'rectanglelabels': ['cat']}}]}]}\n",
      "x (3).jpg\n",
      "{'data': {'image': 'x (3).jpg'}, 'predictions': [{'model_version': 'one', 'score': 0.5, 'result': [{'id': 'result2', 'type': 'rectanglelabels', 'from_name': 'label', 'to_name': 'image', 'original_width': 1200, 'original_height': 1197, 'image_rotation': 0, 'value': {'rotation': 0, 'x': 323, 'y': 265, 'width': 666, 'height': 725, 'rectanglelabels': ['dog']}}]}]}\n",
      "x (4).jpg\n",
      "{'data': {'image': 'x (4).jpg'}, 'predictions': [{'model_version': 'one', 'score': 0.5, 'result': [{'id': 'result2', 'type': 'rectanglelabels', 'from_name': 'label', 'to_name': 'image', 'original_width': 1440, 'original_height': 560, 'image_rotation': 0, 'value': {'rotation': 0, 'x': 205, 'y': 77, 'width': 296, 'height': 482, 'rectanglelabels': ['cat']}}, {'id': 'result3', 'type': 'rectanglelabels', 'from_name': 'label', 'to_name': 'image', 'original_width': 1440, 'original_height': 560, 'image_rotation': 0, 'value': {'rotation': 0, 'x': 460, 'y': 0, 'width': 235, 'height': 560, 'rectanglelabels': ['cat']}}, {'id': 'result4', 'type': 'rectanglelabels', 'from_name': 'label', 'to_name': 'image', 'original_width': 1440, 'original_height': 560, 'image_rotation': 0, 'value': {'rotation': 0, 'x': 658, 'y': 47, 'width': 259, 'height': 503, 'rectanglelabels': ['cat']}}, {'id': 'result5', 'type': 'rectanglelabels', 'from_name': 'label', 'to_name': 'image', 'original_width': 1440, 'original_height': 560, 'image_rotation': 0, 'value': {'rotation': 0, 'x': 910, 'y': 1, 'width': 274, 'height': 543, 'rectanglelabels': ['cat']}}]}]}\n",
      "x (5).jpg\n",
      "{'data': {'image': 'x (5).jpg'}, 'predictions': [{'model_version': 'one', 'score': 0.5, 'result': [{'id': 'result2', 'type': 'rectanglelabels', 'from_name': 'label', 'to_name': 'image', 'original_width': 800, 'original_height': 534, 'image_rotation': 0, 'value': {'rotation': 0, 'x': 152, 'y': 112, 'width': 221, 'height': 390, 'rectanglelabels': ['dog']}}, {'id': 'result3', 'type': 'rectanglelabels', 'from_name': 'label', 'to_name': 'image', 'original_width': 800, 'original_height': 534, 'image_rotation': 0, 'value': {'rotation': 0, 'x': 352, 'y': 93, 'width': 160, 'height': 428, 'rectanglelabels': ['dog']}}]}]}\n",
      "x (6).jpg\n",
      "{'data': {'image': 'x (6).jpg'}, 'predictions': [{'model_version': 'one', 'score': 0.5, 'result': [{'id': 'result2', 'type': 'rectanglelabels', 'from_name': 'label', 'to_name': 'image', 'original_width': 275, 'original_height': 183, 'image_rotation': 0, 'value': {'rotation': 0, 'x': 160, 'y': 36, 'width': 101, 'height': 135, 'rectanglelabels': ['cat']}}, {'id': 'result3', 'type': 'rectanglelabels', 'from_name': 'label', 'to_name': 'image', 'original_width': 275, 'original_height': 183, 'image_rotation': 0, 'value': {'rotation': 0, 'x': 31, 'y': 1, 'width': 132, 'height': 181, 'rectanglelabels': ['dog']}}]}]}\n",
      "x (7).jpg\n",
      "{'data': {'image': 'x (7).jpg'}, 'predictions': [{'model_version': 'one', 'score': 0.5, 'result': [{'id': 'result2', 'type': 'rectanglelabels', 'from_name': 'label', 'to_name': 'image', 'original_width': 299, 'original_height': 168, 'image_rotation': 0, 'value': {'rotation': 0, 'x': 89, 'y': 23, 'width': 205, 'height': 127, 'rectanglelabels': ['dog']}}, {'id': 'result3', 'type': 'rectanglelabels', 'from_name': 'label', 'to_name': 'image', 'original_width': 299, 'original_height': 168, 'image_rotation': 0, 'value': {'rotation': 0, 'x': 6, 'y': 32, 'width': 93, 'height': 121, 'rectanglelabels': ['cat']}}]}]}\n",
      "x (8).jpg\n",
      "{'data': {'image': 'x (8).jpg'}, 'predictions': [{'model_version': 'one', 'score': 0.5, 'result': [{'id': 'result2', 'type': 'rectanglelabels', 'from_name': 'label', 'to_name': 'image', 'original_width': 500, 'original_height': 281, 'image_rotation': 0, 'value': {'rotation': 0, 'x': 361, 'y': 175, 'width': 91, 'height': 73, 'rectanglelabels': ['cat']}}, {'id': 'result3', 'type': 'rectanglelabels', 'from_name': 'label', 'to_name': 'image', 'original_width': 500, 'original_height': 281, 'image_rotation': 0, 'value': {'rotation': 0, 'x': 72, 'y': 104, 'width': 80, 'height': 140, 'rectanglelabels': ['dog']}}, {'id': 'result4', 'type': 'rectanglelabels', 'from_name': 'label', 'to_name': 'image', 'original_width': 500, 'original_height': 281, 'image_rotation': 0, 'value': {'rotation': 0, 'x': 183, 'y': 121, 'width': 74, 'height': 116, 'rectanglelabels': ['dog']}}, {'id': 'result5', 'type': 'rectanglelabels', 'from_name': 'label', 'to_name': 'image', 'original_width': 500, 'original_height': 281, 'image_rotation': 0, 'value': {'rotation': 0, 'x': 271, 'y': 127, 'width': 58, 'height': 115, 'rectanglelabels': ['dog']}}]}]}\n",
      "Conversion complete for all images!\n"
     ]
    }
   ],
   "source": [
    "# Loop through each annotation file\n",
    "for annotation_file in os.listdir(annotation_dir):\n",
    "    if annotation_file.endswith(\".txt\"):\n",
    "        # Initialize image_path as None to find the corresponding image\n",
    "        image_path = None\n",
    "        \n",
    "        # Try to find the corresponding image file with different extensions\n",
    "        for ext in image_extensions:\n",
    "            image_filename = annotation_file.replace(\".txt\", ext)\n",
    "            potential_image_path = os.path.join(image_dir, image_filename)\n",
    "            if os.path.exists(potential_image_path):\n",
    "                image_path = potential_image_path\n",
    "                break\n",
    "        \n",
    "        # If no corresponding image was found, skip this annotation file\n",
    "        if not image_path:\n",
    "            print(f\"No corresponding image found for {annotation_file}, skipping...\")\n",
    "            continue\n",
    "        \n",
    "        # Open the image to get its dimensions\n",
    "        img = Image.open(image_path)\n",
    "        image_width, image_height = img.size\n",
    "        print(image_filename)\n",
    "        \n",
    "        # Initialize a list to store annotations for this image\n",
    "        annotations = []\n",
    "        results = []\n",
    "        \n",
    "        # Read YOLO annotations from the file\n",
    "        with open(os.path.join(annotation_dir, annotation_file), \"r\") as file:\n",
    "            i = 0\n",
    "            for line in file:\n",
    "                i+=1\n",
    "                parts = line.strip().split()\n",
    "                label = int(parts[0])\n",
    "                x_center = float(parts[1])\n",
    "                y_center = float(parts[2])\n",
    "                bbox_width = float(parts[3])\n",
    "                bbox_height = float(parts[4])\n",
    "                \n",
    "                # Convert YOLO format (x_center, y_center, width, height) to Label Studio format (x_min, y_min, width, height)\n",
    "                x_min = int((x_center - bbox_width / 2) * image_width)\n",
    "                y_min = int((y_center - bbox_height / 2) * image_height)\n",
    "                width = int(bbox_width * image_width)\n",
    "                height = int(bbox_height * image_height)\n",
    "                \n",
    "                # Create an annotation entry for Label Studio\n",
    "                # annotation = {\n",
    "                #     \"label\": [str(label)],  # Label Studio requires labels as a list of strings\n",
    "                #     \"coordinates\": {\n",
    "                #         \"x\": x_min,\n",
    "                #         \"y\": y_min,\n",
    "                #         \"width\": width,\n",
    "                #         \"height\": height\n",
    "                #     }\n",
    "                # }\n",
    "                # annotations.append(annotation)\n",
    "        \n",
    "                # Create the final JSON structure for this image\n",
    "                # ls_annotation = yolo_to_ls(image_path, yolo_labels, image_width, image_height, label_map)\n",
    "                result = {\n",
    "                    \"id\": f\"result{i+1}\",\n",
    "                    \"type\": \"rectanglelabels\",\n",
    "                    \"from_name\": \"label\",\n",
    "                    \"to_name\": \"image\",\n",
    "                    \"original_width\": image_width,\n",
    "                    \"original_height\": image_height,\n",
    "                    \"image_rotation\": 0,\n",
    "                    \"value\": {\n",
    "                        \"rotation\": 0,\n",
    "                        \"x\": x_min,\n",
    "                        \"y\": y_min,\n",
    "                        \"width\": width,\n",
    "                        \"height\": height,\n",
    "                        \"rectanglelabels\": [label_map[label]]\n",
    "                    }\n",
    "                }\n",
    "                results.append(result)\n",
    "    \n",
    "        annotation = {\n",
    "            \"data\": {\n",
    "                \"image\": image_filename\n",
    "            },\n",
    "            \"predictions\": [{\n",
    "                \"model_version\": \"one\",\n",
    "                \"score\": 0.5,\n",
    "                \"result\": results\n",
    "            }]\n",
    "        }\n",
    "\n",
    "        label_studio_data_list.append(annotation)\n",
    "\n",
    "# Save all the annotations to a JSON file\n",
    "with open(\"label_studio_preannotations4.json\", \"w\") as outfile:\n",
    "    json.dump(label_studio_data_list, outfile, indent=4)\n",
    "\n",
    "print(\"Conversion complete for all images!\")"
   ]
  },
  {
   "cell_type": "code",
   "execution_count": 23,
   "metadata": {},
   "outputs": [],
   "source": [
    "# def yolo_to_ls(image_path, yolo_labels, image_width, image_height, label_map):\n",
    "#     results = []\n",
    "    \n",
    "#     for i, label in enumerate(yolo_labels):\n",
    "#         class_id, center_x, center_y, width, height = label\n",
    "#         x = (center_x - width / 2) * 100\n",
    "#         y = (center_y - height / 2) * 100\n",
    "#         width = width * 100\n",
    "#         height = height * 100\n",
    "        \n",
    "#         result = {\n",
    "#             \"id\": f\"result{i+1}\",\n",
    "#             \"type\": \"rectanglelabels\",\n",
    "#             \"from_name\": \"label\",\n",
    "#             \"to_name\": \"image\",\n",
    "#             \"original_width\": image_width,\n",
    "#             \"original_height\": image_height,\n",
    "#             \"image_rotation\": 0,\n",
    "#             \"value\": {\n",
    "#                 \"rotation\": 0,\n",
    "#                 \"x\": x,\n",
    "#                 \"y\": y,\n",
    "#                 \"width\": width,\n",
    "#                 \"height\": height,\n",
    "#                 \"rectanglelabels\": [label_map[class_id]]\n",
    "#             }\n",
    "#         }\n",
    "#         results.append(result)\n",
    "    \n",
    "#     annotation = {\n",
    "#         \"data\": {\n",
    "#             \"image\": image_path\n",
    "#         },\n",
    "#         \"predictions\": [{\n",
    "#             \"model_version\": \"one\",\n",
    "#             \"score\": 0.5,\n",
    "#             \"result\": results\n",
    "#         }]\n",
    "#     }\n",
    "    \n",
    "#     return json.dumps([annotation], indent=2)\n"
   ]
  },
  {
   "cell_type": "code",
   "execution_count": 24,
   "metadata": {},
   "outputs": [],
   "source": [
    "# # Example usage\n",
    "# # Directory containing images and annotations\n",
    "# image_dir = \"../assets/ex_object_det/images\"\n",
    "# annotation_dir = \"../assets/ex_object_det/labels\"\n",
    "\n",
    "# # Supported image extensions\n",
    "# image_extensions = ['.jpg', '.png']\n",
    "\n",
    "\n",
    "# # Loop through each annotation file\n",
    "# for annotation_file in os.listdir(annotation_dir):\n",
    "#     if annotation_file.endswith(\".txt\"):\n",
    "#         # Initialize image_path as None to find the corresponding image\n",
    "#         image_path = None\n",
    "        \n",
    "#         # Try to find the corresponding image file with different extensions\n",
    "#         for ext in image_extensions:\n",
    "#             image_filename = annotation_file.replace(\".txt\", ext)\n",
    "#             potential_image_path = os.path.join(image_dir, image_filename)\n",
    "#             if os.path.exists(potential_image_path):\n",
    "#                 image_path = potential_image_path\n",
    "#                 break\n",
    "        \n",
    "#         # If no corresponding image was found, skip this annotation file\n",
    "#         if not image_path:\n",
    "#             print(f\"No corresponding image found for {annotation_file}, skipping...\")\n",
    "#             continue\n",
    "        \n",
    "#         # Open the image to get its dimensions\n",
    "#         img = Image.open(image_path)\n",
    "#         image_width, image_height = img.size\n",
    "\n",
    "# # yolo_labels = [\n",
    "# #     (0, 0.1, 0.2, 0.3, 0.4),  # Example label: class_id, center_x, center_y, width, height\n",
    "# #     (1, 0.7, 0.8, 0.05, 0.07)\n",
    "# # ]\n",
    "# # image_width = 600\n",
    "# # image_height = 403\n",
    "# # label_map = {0: \"Airplane\", 1: \"Car\"}  # Mapping from YOLO class IDs to labels\n",
    "\n",
    "# # ls_annotation = yolo_to_ls(image_path, yolo_labels, image_width, image_height, label_map)\n",
    "# # print(ls_annotation)"
   ]
  },
  {
   "cell_type": "code",
   "execution_count": null,
   "metadata": {},
   "outputs": [],
   "source": []
  },
  {
   "cell_type": "code",
   "execution_count": null,
   "metadata": {},
   "outputs": [],
   "source": []
  },
  {
   "cell_type": "code",
   "execution_count": null,
   "metadata": {},
   "outputs": [],
   "source": []
  }
 ],
 "metadata": {
  "kernelspec": {
   "display_name": "lab",
   "language": "python",
   "name": "python3"
  },
  "language_info": {
   "codemirror_mode": {
    "name": "ipython",
    "version": 3
   },
   "file_extension": ".py",
   "mimetype": "text/x-python",
   "name": "python",
   "nbconvert_exporter": "python",
   "pygments_lexer": "ipython3",
   "version": "3.8.18"
  },
  "orig_nbformat": 4
 },
 "nbformat": 4,
 "nbformat_minor": 2
}
